{
  "nbformat": 4,
  "nbformat_minor": 0,
  "metadata": {
    "colab": {
      "name": "Py4Text_GettingStarted.ipynb",
      "provenance": [],
      "collapsed_sections": [],
      "include_colab_link": true
    },
    "kernelspec": {
      "name": "python3",
      "display_name": "Python 3"
    }
  },
  "cells": [
    {
      "cell_type": "markdown",
      "metadata": {
        "id": "view-in-github",
        "colab_type": "text"
      },
      "source": [
        "<a href=\"https://colab.research.google.com/github/Vam564/Vamshi/blob/master/Py4Text_GettingStarted.ipynb\" target=\"_parent\"><img src=\"https://colab.research.google.com/assets/colab-badge.svg\" alt=\"Open In Colab\"/></a>"
      ]
    },
    {
      "cell_type": "markdown",
      "metadata": {
        "id": "iB5snyuF43pq"
      },
      "source": [
        "# Getting Started - Python for Text, Fall 2020\n",
        "\n",
        "---\n",
        "\n",
        "\n",
        "\n",
        "\n",
        "---\n",
        "\n",
        "To be completed and submitted by Sunday, August 30. \n",
        "\n",
        "At different points in the notebook, you will encounter something that's looking for an answer (you'll know, because it'll say **ANSWER** in bold highlighted text. For each of these, add your answer to the notebook.\n",
        "* For non-code answers, create a new text cell by clicking **+Text** in the upper left-hand corner of the window\n",
        "* For answers that require writing code, create a new code cell instead, by clicking **+Code**\n",
        "\n",
        "When you create text blocks, feel free to play around with the different text formatting options. (Hint: Colab uses Markdown formatting features - you may have used some of these already if you frequent Reddit).\n",
        "Try the different kinds of headers, ordered, and unordered lists. Try adding a code snippet within a text block, too.\n",
        "\n",
        "### Have questions?\n",
        "\n",
        "1. You can use Colab's commenting function to ask questions about things in the notebook - if you add comments to the shared version of the notebook, we will see them and answer them. Before you add a comment, be sure you know whether you're looking at the main copy (shared with the class) or your own copy.\n",
        "1. Alternately, you can ask questions on the Canvas discussion boards."
      ]
    },
    {
      "cell_type": "code",
      "metadata": {
        "colab": {
          "base_uri": "https://localhost:8080/"
        },
        "id": "q4nScx4sBpbr",
        "outputId": "8adfd05a-c2a8-4c77-d556-56b6e23ab145"
      },
      "source": [
        "1+1\n"
      ],
      "execution_count": 1,
      "outputs": [
        {
          "output_type": "execute_result",
          "data": {
            "text/plain": [
              "2"
            ]
          },
          "metadata": {},
          "execution_count": 1
        }
      ]
    },
    {
      "cell_type": "markdown",
      "metadata": {
        "id": "XoshoJbh6Rc9"
      },
      "source": [
        "# 1. Opening Google Colab:\n",
        "\n",
        "To use Colab, all you need is a (free) Google account. Once you have your Google account, find your way to your Google Drive. You'll be using and creating dozens of notebooks (at least!) throughout the semester. To keep things organized, create a folder in your Google Drive specifically for your coursework. Name it whatever you like, but don't use any spaces in the name. Trust me on this one.\n",
        "\n",
        "* Navigate to your Google Drive\n",
        "* Create a folder in Google Drive for your notebooks (no spaces in the name)\n",
        "* Avoid spaces when you are naming files, too\n",
        "\n",
        "Next, save a copy of this notebook, so that you have your own version to play around with. There are two ways you can do this:\n",
        "\n",
        "* Save to your computer:\n",
        "    * From the File menu above, chose 'Download .ipynb'\n",
        "    * Go to Colaboratory, either through your Google Drive or here : https://colab.research.google.com/notebooks/welcome.ipynb\n",
        "    * From the File menu, choose 'Upload notebook'\n",
        "    * Navigate to the saved notebook (on your computer) and select the one you want to upload\n",
        "    * To change the name of the notebook, just click on the name of the file (at the top left of the screen) and change it\n",
        "    * When you rename the notebook, use this format: \"LastName_Py4Text_Lab1.ipynb\"\n",
        "\n",
        "* Save directly to Drive:\n",
        "    * From the File menu above, choose 'Save a copy in Drive'\n",
        "    * (Otherwise, we'll have 25 people all making changes to the same notebook!)\n",
        "    * To locate your file, from the File menu, choose 'Locate in Drive'\n",
        "\n",
        " \n",
        "\n"
      ]
    },
    {
      "cell_type": "code",
      "metadata": {
        "colab": {
          "base_uri": "https://localhost:8080/"
        },
        "id": "VPnx3I6EKqZa",
        "outputId": "2d4fdaa6-76c0-4090-8a7a-b6373393bf67"
      },
      "source": [
        "from google.colab import drive\n",
        "drive.mount('/content/drive')"
      ],
      "execution_count": 7,
      "outputs": [
        {
          "output_type": "stream",
          "text": [
            "Drive already mounted at /content/drive; to attempt to forcibly remount, call drive.mount(\"/content/drive\", force_remount=True).\n"
          ],
          "name": "stdout"
        }
      ]
    },
    {
      "cell_type": "code",
      "metadata": {
        "colab": {
          "base_uri": "https://localhost:8080/"
        },
        "id": "g5H0VoMqLkKp",
        "outputId": "d5a5901d-14a0-46f4-b5b7-c3c3b715f1e0"
      },
      "source": [
        "\n",
        "f = open(\"/content/drive/MyDrive/sample/sample.txt\", \"r\")\n",
        "#print(f.read())\n",
        "for line in f:\n",
        "  for word in line.split():\n",
        "    if word.endswith(\"ing\"):\n",
        "      print(word)\n"
      ],
      "execution_count": 10,
      "outputs": [
        {
          "output_type": "stream",
          "text": [
            "using\n"
          ],
          "name": "stdout"
        }
      ]
    },
    {
      "cell_type": "markdown",
      "metadata": {
        "id": "wgzw3DhOP6tz"
      },
      "source": [
        "## **ANSWER**: \n",
        "\n",
        "> Which way of getting your own copy of the lab notebook do you prefer? Why? \n",
        "\n",
        "\n",
        "\n"
      ]
    },
    {
      "cell_type": "markdown",
      "metadata": {
        "id": "h_UgPkwTO5Lc"
      },
      "source": [
        "I will prefer by downloading the .ipynb files andwe can access it we can execute, edit. Easy to access so I prefer download and also i have copied the file to github so that i can access from anywhere just by logging into github."
      ]
    },
    {
      "cell_type": "markdown",
      "metadata": {
        "id": "_nL0bRaKPghm"
      },
      "source": [
        "# 2. More about Colab\n",
        "\n",
        "* To create a brand new notebook of your own:\n",
        " * After signing in, go to **New > More > Google Colaboratory**\n",
        " * That's it! You're ready to enter Python commands into your notebook and run them.\n",
        "* If you ever want to clear the outputs of running your code from a notebook:\n",
        " * From the **Edit** menu above, choose **Clear all outputs**\n",
        " * If you're still having issues, go to the **Runtime** menu and click **Restart runtime** -- this starts your session all over again\n",
        "* Colab's integration with Google Drive means that, from Colab, you can access all the files in your Google Drive:\n",
        "  * Click the folder icon to the left of your screen\n",
        "  * Click the rightmost icon - the dark-colored folder with the Google Drive logo\n",
        "  * This will mount your drive - this just means that your Google Drive is now accessible from Colab. We won't use this much yet, but it will be *extremely handy* later on, when you want to work with your own data files in Colab.\n",
        "* Go to **Tools > Settings** for a couple of fun options.\n",
        "\n"
      ]
    },
    {
      "cell_type": "markdown",
      "metadata": {
        "id": "Iz9vd7TYSKQg"
      },
      "source": [
        "#**ANSWER:**\n",
        "> Were you able to mount your Google Drive successfully? Can you browse through your files using the Colab interface? Any problems?"
      ]
    },
    {
      "cell_type": "markdown",
      "metadata": {
        "id": "HtvtokO8Oz_f"
      },
      "source": [
        "Yes, I am able to mount mydrive. I did and accessed the file\n"
      ]
    },
    {
      "cell_type": "markdown",
      "metadata": {
        "id": "xOWrzOt3TggZ"
      },
      "source": [
        "# 3. Watch this short video about Colab: \n",
        "\n",
        "This is an introduction to Colab from Google - don't worry if a couple things don't make complete sense to you yet. The idea is to see how the notebook works in general, and to get a sense of the differences between text cells and code cells.\n",
        "\n",
        "https://www.youtube.com/watch?v=inN8seMm7UI\n",
        "\n",
        "## **ANSWER:** \n",
        "> What is the first name of the guy in the video? \n",
        "\n",
        "> One thing the video talks about is how to share Colab notebooks - why might this be useful?"
      ]
    },
    {
      "cell_type": "markdown",
      "metadata": {
        "id": "ItLJXV1YR9Hz"
      },
      "source": [
        "\n",
        "# 4. Experiment with using Python as a calculator\n",
        " * Python understands mathematical expressions, with a certain syntax\n",
        " * You can start with simple things: 3+4, 5\\*7, 175/6 (hit enter after each command)\n",
        " * Run the code below by clicking on the Play button (or you can use Ctrl+Enter)\n",
        " * Try out some other mathematical operations\n",
        "    * First open a new code cell\n",
        "    * Now type a mathematical expression into your cell and run the code by clicking the \"play\" arrow to the left of the cell\n",
        "    \n",
        "   "
      ]
    },
    {
      "cell_type": "code",
      "metadata": {
        "id": "cbCH_3C3gVlZ",
        "colab": {
          "base_uri": "https://localhost:8080/"
        },
        "outputId": "cf8fce87-7a00-4c71-cbae-adbe4a316d17"
      },
      "source": [
        "11*12"
      ],
      "execution_count": 2,
      "outputs": [
        {
          "output_type": "execute_result",
          "data": {
            "text/plain": [
              "132"
            ]
          },
          "metadata": {},
          "execution_count": 2
        }
      ]
    },
    {
      "cell_type": "code",
      "metadata": {
        "id": "PFJX6tYxc0BJ",
        "colab": {
          "base_uri": "https://localhost:8080/"
        },
        "outputId": "971ff317-0653-48c1-d90d-35c28e9c21ea"
      },
      "source": [
        "(11*13)/7"
      ],
      "execution_count": 3,
      "outputs": [
        {
          "output_type": "execute_result",
          "data": {
            "text/plain": [
              "20.428571428571427"
            ]
          },
          "metadata": {},
          "execution_count": 3
        }
      ]
    },
    {
      "cell_type": "code",
      "metadata": {
        "id": "Pyn5Z9Y1PLdW"
      },
      "source": [
        ""
      ],
      "execution_count": null,
      "outputs": []
    },
    {
      "cell_type": "markdown",
      "metadata": {
        "id": "_r78ZxxHUwaZ"
      },
      "source": [
        "##**ANSWER:**\n",
        "> What happens if you type multiple expressions in a single code cell (one per line) and run that cell? \n",
        "\n",
        "> How can you fix that problem?"
      ]
    },
    {
      "cell_type": "markdown",
      "metadata": {
        "id": "YWbakVJyPNck"
      },
      "source": [
        "Just by adding paranthesis to the expression \n"
      ]
    },
    {
      "cell_type": "markdown",
      "metadata": {
        "id": "slRuQJeS-yQb"
      },
      "source": [
        "# 5. Now let's try out the print command in Python \n",
        "* Type the code below\n"
      ]
    },
    {
      "cell_type": "code",
      "metadata": {
        "id": "uIiKpUcuSaQ8"
      },
      "source": [
        ""
      ],
      "execution_count": null,
      "outputs": []
    },
    {
      "cell_type": "code",
      "metadata": {
        "id": "jD21TNZT-6SZ",
        "colab": {
          "base_uri": "https://localhost:8080/"
        },
        "outputId": "b11cf51e-e1f3-45ad-cfa0-72c4d588faa7"
      },
      "source": [
        "print(\"Hello, world!\")\n",
        "print('Python is my new best friend')"
      ],
      "execution_count": 4,
      "outputs": [
        {
          "output_type": "stream",
          "text": [
            "Hello, world!\n",
            "Python is my new best friend\n"
          ],
          "name": "stdout"
        }
      ]
    },
    {
      "cell_type": "code",
      "metadata": {
        "id": "nZ7hxF05eF0Q",
        "colab": {
          "base_uri": "https://localhost:8080/"
        },
        "outputId": "cf701b19-4904-4da0-d47e-0ac81e4ea085"
      },
      "source": [
        "print(''' Here's an \"example\" ! ''')"
      ],
      "execution_count": 5,
      "outputs": [
        {
          "output_type": "stream",
          "text": [
            " Here's an \"example\" ! \n"
          ],
          "name": "stdout"
        }
      ]
    },
    {
      "cell_type": "markdown",
      "metadata": {
        "id": "9OxxjG_OVGCx"
      },
      "source": [
        "##**ANSWER:**\n",
        "> What else can you do with these commands? (add new code cells with new print commands below)\n",
        "\n",
        "> What do you think is going on with the triple quotes in the third print statement above?"
      ]
    },
    {
      "cell_type": "markdown",
      "metadata": {
        "id": "yAkqyi9BVKmQ"
      },
      "source": [
        "# 6. And now to begin thinking in Python...\n",
        "\n",
        "Read the preface and first chapter of *Think Python: How to Think like a Computer Scientist* by Allen Downey - the entire book is available online here: http://greenteapress.com/thinkpython2/html/index.html\n",
        "\n",
        "Some important things to keep in mind while you are reading:\n",
        "* This is the second edition of Think Python, written for Python versions 3.0 and up. (The first edition was written for Python 2.x versions.)\n",
        "* Downey doesn't use Colab notebooks - instead he talks about using an installation of Python that's on your own machine. We'll look at ways of doing that later in the semester, but for now we need to be able to translate from this type of installation to a notebook.\n",
        "   * anything in Think Python that begins with `>>>` can be typed directly into a code cell in the notebook\n",
        "   * that `>>>` is simply the prompt that Python displays at the start of each line, when we use it in interactive mode\n",
        "* The ideas introduced here are important for programming in any language - in fact, there are versions of *How to Think like a Computer Scientist* for many different programming languages. \n",
        "\n",
        "\n",
        "\n",
        "\n",
        "\n"
      ]
    },
    {
      "cell_type": "markdown",
      "metadata": {
        "id": "aQ9eWADnXQ-c"
      },
      "source": [
        "##**ANSWER:**\n",
        "> There are a number of code examples in the chapter. Translate those over to colab by typing them in code cells below and running the cells."
      ]
    },
    {
      "cell_type": "markdown",
      "metadata": {
        "id": "pMwYuw0gX9Hz"
      },
      "source": [
        "##**ANSWER:**\n",
        "> Do Exercise 1 at the end of the chapter, in code cells below."
      ]
    },
    {
      "cell_type": "markdown",
      "metadata": {
        "id": "JHqViugbXbqk"
      },
      "source": [
        "##**ANSWER/REFLECTION:**\n",
        "> In your own words, what are some ways that programming languages and human languages are similar? What are some ways they're different from one another?"
      ]
    },
    {
      "cell_type": "markdown",
      "metadata": {
        "id": "ooYPm6enYImZ"
      },
      "source": [
        "##**BONUS QUESTION:**\n",
        "> If you're feeling up for a challenge, do Exercise 2 at the end of the chapter. This is for bonus points!"
      ]
    },
    {
      "cell_type": "markdown",
      "metadata": {
        "id": "b7ej0sNaYhxX"
      },
      "source": [
        "# 7. Wrapping up and submitting\n",
        "\n",
        "Once you're done, you don't need to do anything special to log off your Colaboratory notebook.\n",
        "\n",
        "You can, however, save many different versions of a Colab notebook - this comes in handy when you want to turn in an assignment, but don't necessarily want to stop working on your code.\n",
        "\n",
        "Try creating a revision by going to **File > Save and Pin Revision**.\n",
        "\n",
        "Then view your revision history at **File > Revision History**.\n",
        "\n",
        "When you're done and would like to turn in an assignment done on Colab, you can go to **Share** in the upper right corner, click **Get Shareable Link**, change the dropdown menu option to **Anyone with the link can edit**, and then **Copy Link**! This is what you'll be turning in on Canvas."
      ]
    },
    {
      "cell_type": "code",
      "metadata": {
        "colab": {
          "base_uri": "https://localhost:8080/"
        },
        "id": "T6l8fe-nSfw8",
        "outputId": "6f511872-7660-4ac5-d561-b0d043bcbf9e"
      },
      "source": [
        "Num = 11\n",
        "N = Num % 2\n",
        "N"
      ],
      "execution_count": 11,
      "outputs": [
        {
          "output_type": "execute_result",
          "data": {
            "text/plain": [
              "1"
            ]
          },
          "metadata": {},
          "execution_count": 11
        }
      ]
    },
    {
      "cell_type": "code",
      "metadata": {
        "id": "M-wRWUicSlun"
      },
      "source": [
        ""
      ],
      "execution_count": null,
      "outputs": []
    }
  ]
}